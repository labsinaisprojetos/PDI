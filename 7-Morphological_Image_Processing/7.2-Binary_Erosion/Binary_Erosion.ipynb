{
 "cells": [
  {
   "cell_type": "markdown",
   "metadata": {},
   "source": [
    "# CEFET-RJ - UNED Nova Iguaçu  \n",
    "![](logocefet.jpg)\n",
    "\n",
    "\n",
    "\n",
    "\n",
    "\n",
    "## Dep. Engenharia de Controle e Automação\n",
    "\n",
    "### Disciplina: Processamento Digital de Imagens\n",
    "\n",
    "Professor: Gabriel Matos Araujo\n",
    "<br>\n",
    "Material de Aula (Conversão em Python)\n",
    "<br>\n",
    "Script escrito por Leonardo Martins Reigoto\n",
    "\n",
    "<b> Original File Heading</b>\n",
    "<br>\n",
    "\n",
    "EE368/CS232 Digital Image Processing\n",
    "<br>\n",
    "Bernd Girod\n",
    "<br>\n",
    "Department of Electrical Engineering, Stanford University \n",
    "<br>\n",
    "Script by Qiyuan Tian and David Chen\n",
    "<br>\n",
    "Erosion\n",
    "\n",
    "\n",
    "Loading modules "
   ]
  },
  {
   "cell_type": "code",
   "execution_count": 1,
   "metadata": {},
   "outputs": [],
   "source": [
    "import cv2\n",
    "import matplotlib.pyplot as plt\n",
    "import numpy as np"
   ]
  },
  {
   "cell_type": "markdown",
   "metadata": {},
   "source": [
    "Loading image, the number 0 after cv2.imread means that the image is being read on grayscale."
   ]
  },
  {
   "cell_type": "code",
   "execution_count": 2,
   "metadata": {},
   "outputs": [],
   "source": [
    "img=cv2.imread(\"bacteria.png\",0)\n"
   ]
  },
  {
   "cell_type": "markdown",
   "metadata": {},
   "source": [
    "kernel its a 3x3 matrix with all elements equal 1\n",
    "\n",
    "kernel2 its a 7x7 matrix with all elements equal 1 \n",
    "\n",
    "the cv2.erode command have 3 inputs (the desired image, a kernel matrix, the number of desired iterations)"
   ]
  },
  {
   "cell_type": "code",
   "execution_count": 3,
   "metadata": {},
   "outputs": [
    {
     "data": {
      "text/plain": [
       "True"
      ]
     },
     "execution_count": 3,
     "metadata": {},
     "output_type": "execute_result"
    }
   ],
   "source": [
    "kernel= np.ones((3, 3), np.uint8) \n",
    "kernel2=np.ones((7,7),np.uint8) \n",
    "img_erode= cv2.erode(img, kernel, iterations=1)\n",
    "img_erode2=cv2.erode(img,kernel2,iterations=1)\n",
    "cv2.imwrite('erosion_3x3.jpg',img_erode)\n",
    "cv2.imwrite('erosion_7x7.jpg',img_erode2)"
   ]
  },
  {
   "cell_type": "markdown",
   "metadata": {},
   "source": [
    "Plotting the images"
   ]
  },
  {
   "cell_type": "code",
   "execution_count": 4,
   "metadata": {},
   "outputs": [
    {
     "data": {
      "image/png": "[encoded data removed]",
      "text/plain": [
       "<Figure size 432x288 with 1 Axes>"
      ]
     },
     "metadata": {
      "needs_background": "light"
     },
     "output_type": "display_data"
    },
    {
     "data": {
      "image/png": "[encoded data removed]",
      "text/plain": [
       "<Figure size 432x288 with 1 Axes>"
      ]
     },
     "metadata": {
      "needs_background": "light"
     },
     "output_type": "display_data"
    },
    {
     "data": {
      "image/png": "[encoded data removed]",
      "text/plain": [
       "<Figure size 432x288 with 1 Axes>"
      ]
     },
     "metadata": {
      "needs_background": "light"
     },
     "output_type": "display_data"
    }
   ],
   "source": [
    "plt.imshow(img,cmap='gray')\n",
    "plt.title(\"Original Image\")\n",
    "plt.axis('off')\n",
    "plt.show()\n",
    "plt.imshow(img_erode,cmap='gray')\n",
    "plt.title(\"Erosion with a 3x3 kernel\")\n",
    "plt.axis('off')\n",
    "plt.show()\n",
    "plt.imshow(img_erode2,cmap='gray')\n",
    "plt.title('Erosion with a 7x7 kernel')\n",
    "plt.axis('off')\n",
    "plt.show()"
   ]
  },
  {
   "cell_type": "code",
   "execution_count": null,
   "metadata": {},
   "outputs": [],
   "source": []
  }
 ],
 "metadata": {
  "kernelspec": {
   "display_name": "Python 3",
   "language": "python",
   "name": "python3"
  },
  "language_info": {
   "codemirror_mode": {
    "name": "ipython",
    "version": 3
   },
   "file_extension": ".py",
   "mimetype": "text/x-python",
   "name": "python",
   "nbconvert_exporter": "python",
   "pygments_lexer": "ipython3",
   "version": "3.7.3"
  }
 },
 "nbformat": 4,
 "nbformat_minor": 2
}
