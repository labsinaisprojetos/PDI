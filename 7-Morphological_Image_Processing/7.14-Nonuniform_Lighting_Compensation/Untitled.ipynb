{
 "cells": [
  {
   "cell_type": "markdown",
   "metadata": {},
   "source": [
    "# CEFET-RJ - UNED Nova Iguaçu  \n",
    "![](logocefet.jpg)\n",
    "\n",
    "\n",
    "\n",
    "\n",
    "\n",
    "## Dep. Engenharia de Controle e Automação\n",
    "\n",
    "### Disciplina: Processamento Digital de Imagens\n",
    "\n",
    "Professor: Gabriel Matos Araujo\n",
    "<br>\n",
    "Material de Aula (Conversão em Python)\n",
    "<br>\n",
    "Script escrito por Leonardo Martins Reigoto\n",
    "\n",
    "<b> Original File Heading</b>\n",
    "<br>\n",
    "\n",
    "EE368/CS232 Digital Image Processing\n",
    "<br>\n",
    "Bernd Girod\n",
    "<br>\n",
    "Department of Electrical Engineering, Stanford University \n",
    "<br>\n",
    "Script by Qiyuan Tian and David Chen\n",
    "<br>\n",
    "Non-uniform lighting compensation\n",
    "\n"
   ]
  },
  {
   "cell_type": "markdown",
   "metadata": {},
   "source": [
    "Loading modules and image"
   ]
  },
  {
   "cell_type": "code",
   "execution_count": 1,
   "metadata": {},
   "outputs": [],
   "source": [
    "import cv2\n",
    "import matplotlib.pyplot as plt\n",
    "import numpy as np\n",
    "#from scipy import signal <-travando\n",
    "img=cv2.imread('paper.png',0)"
   ]
  },
  {
   "cell_type": "markdown",
   "metadata": {},
   "source": [
    "balblalbalbla"
   ]
  },
  {
   "cell_type": "code",
   "execution_count": 2,
   "metadata": {},
   "outputs": [],
   "source": [
    "def rank_filter(img,order,window_size):\n",
    "    y,x=img.shape\n",
    "    value=[]\n",
    "    filtered_image=img.copy()\n",
    "    for i in range (0,x):\n",
    "        for j in range(0,y):\n",
    "            if x<0 or y<0:\n",
    "                continue\n",
    "            for a in range(x-window_size,x+window_size):\n",
    "                for b in range(y-window_size,y+window_size):\n",
    "                    if a<0 or b<0:\n",
    "                        value.append(0)\n",
    "                    else:\n",
    "                        value.append(img[j,i])\n",
    "            np.sort(value)\n",
    "            filtered_image[j,i]=value[order]\n",
    "    return filtered_image"
   ]
  },
  {
   "cell_type": "markdown",
   "metadata": {},
   "source": [
    "blablabla"
   ]
  },
  {
   "cell_type": "code",
   "execution_count": 3,
   "metadata": {},
   "outputs": [],
   "source": [
    "kernel=np.ones((61,61),np.uint8)\n",
    "img_dilated = cv2.dilate(img,kernel,iterations=1)\n",
    "#filtered_img= signal.order_filter(img,kernel,kernel.size-21) <- travando\n",
    "#img_nova=rank_filter(img,2,8) #tb trava<-\n",
    "diffImg=img_dilated-img\n",
    "kernel2 = np.array([[-1,-1,-1], \n",
    "                   [-1, 9,-1],\n",
    "                   [-1,-1,-1]])\n",
    "diffImg_sharp = cv2.filter2D(diffImg, -1, kernel2)\n",
    "diffImg3=cv2.bitwise_or(diffImg_sharp,diffImg)\n",
    "ret,vish2=cv2.threshold(diffImg,125,255,cv2.THRESH_BINARY+cv2.THRESH_OTSU)\n",
    "ret,vish5=cv2.threshold(diffImg3,125,255,cv2.THRESH_BINARY+cv2.THRESH_OTSU)\n",
    "cv2.imshow('aaa',diffImg)\n",
    "cv2.imshow('vish2',vish2)\n",
    "cv2.imshow('vish5',vish5)\n",
    "cv2.waitKey()\n",
    "cv2.destroyAllWindows()"
   ]
  }
 ],
 "metadata": {
  "kernelspec": {
   "display_name": "Python 3",
   "language": "python",
   "name": "python3"
  },
  "language_info": {
   "codemirror_mode": {
    "name": "ipython",
    "version": 3
   },
   "file_extension": ".py",
   "mimetype": "text/x-python",
   "name": "python",
   "nbconvert_exporter": "python",
   "pygments_lexer": "ipython3",
   "version": "3.7.3"
  }
 },
 "nbformat": 4,
 "nbformat_minor": 2
}
