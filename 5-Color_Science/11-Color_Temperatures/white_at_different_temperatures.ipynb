{
 "cells": [
  {
   "cell_type": "markdown",
   "metadata": {},
   "source": [
    "# CEFET-RJ - UNED Nova Iguaçu  <IMG STYLE=\"position:absolute; TOP:25px; LEFT:500px; WIDTH:63px; HEIGHT:48px\" SRC=\"logocefet.jpg\">\n",
    "\n",
    "## Dep. Engenharia de Controle e Automação\n",
    "\n",
    "### Disciplina: Processamento Digital de Imagens\n",
    "\n",
    "Professor: Gabriel Matos Araujo\n",
    "<br>\n",
    "Material de Aula (Conversão em Python)\n",
    "<br>\n",
    "Script escrito por Leonardo Martins Reigoto\n",
    "\n",
    "<b> Original File Heading</b>\n"
   ]
  },
  {
   "cell_type": "code",
   "execution_count": 1,
   "metadata": {},
   "outputs": [],
   "source": [
    "import csv\n",
    "import numpy as np\n",
    "import cv2\n",
    "import matplotlib.pyplot as plt\n",
    "import scipy.constants as cpy\n",
    "import math"
   ]
  },
  {
   "cell_type": "markdown",
   "metadata": {},
   "source": [
    "Reading csv file"
   ]
  },
  {
   "cell_type": "code",
   "execution_count": 2,
   "metadata": {},
   "outputs": [],
   "source": [
    "with open('lin2012xyz2e_1_7sf.csv') as csvfile:\n",
    "    readfile=csv.reader(csvfile,quoting=csv.QUOTE_NONNUMERIC)\n",
    "    wavelenght=[]\n",
    "    X=[]\n",
    "    Y=[]\n",
    "    Z=[]\n",
    "    for row in readfile:\n",
    "        wavelenght.append(row[0]*10**(-9))\n",
    "        X.append(row[1])\n",
    "        Y.append(row[2])\n",
    "        Z.append(row[3])"
   ]
  },
  {
   "cell_type": "code",
   "execution_count": 3,
   "metadata": {},
   "outputs": [
    {
     "ename": "error",
     "evalue": "OpenCV(4.1.0) /io/opencv/modules/highgui/src/window.cpp:352: error: (-215:Assertion failed) size.width>0 && size.height>0 in function 'imshow'\n",
     "output_type": "error",
     "traceback": [
      "\u001b[0;31m---------------------------------------------------------------------------\u001b[0m",
      "\u001b[0;31merror\u001b[0m                                     Traceback (most recent call last)",
      "\u001b[0;32m<ipython-input-3-d34627b2c3a3>\u001b[0m in \u001b[0;36m<module>\u001b[0;34m\u001b[0m\n\u001b[1;32m      1\u001b[0m \u001b[0mimg\u001b[0m\u001b[0;34m=\u001b[0m\u001b[0mcv2\u001b[0m\u001b[0;34m.\u001b[0m\u001b[0mimread\u001b[0m\u001b[0;34m(\u001b[0m\u001b[0;34m'chromaDiagram.png'\u001b[0m\u001b[0;34m)\u001b[0m\u001b[0;34m\u001b[0m\u001b[0;34m\u001b[0m\u001b[0m\n\u001b[0;32m----> 2\u001b[0;31m \u001b[0mcv2\u001b[0m\u001b[0;34m.\u001b[0m\u001b[0mimshow\u001b[0m\u001b[0;34m(\u001b[0m\u001b[0;34m'imagem'\u001b[0m\u001b[0;34m,\u001b[0m\u001b[0mimg\u001b[0m\u001b[0;34m)\u001b[0m\u001b[0;34m\u001b[0m\u001b[0;34m\u001b[0m\u001b[0m\n\u001b[0m\u001b[1;32m      3\u001b[0m \u001b[0mcv2\u001b[0m\u001b[0;34m.\u001b[0m\u001b[0mwaitKey\u001b[0m\u001b[0;34m(\u001b[0m\u001b[0;34m)\u001b[0m\u001b[0;34m\u001b[0m\u001b[0;34m\u001b[0m\u001b[0m\n\u001b[1;32m      4\u001b[0m \u001b[0mcv2\u001b[0m\u001b[0;34m.\u001b[0m\u001b[0mdestroyAllWindows\u001b[0m\u001b[0;34m(\u001b[0m\u001b[0;34m)\u001b[0m\u001b[0;34m\u001b[0m\u001b[0;34m\u001b[0m\u001b[0m\n\u001b[1;32m      5\u001b[0m \u001b[0;31m#cpy.h = Planck constant\u001b[0m\u001b[0;34m\u001b[0m\u001b[0;34m\u001b[0m\u001b[0;34m\u001b[0m\u001b[0m\n",
      "\u001b[0;31merror\u001b[0m: OpenCV(4.1.0) /io/opencv/modules/highgui/src/window.cpp:352: error: (-215:Assertion failed) size.width>0 && size.height>0 in function 'imshow'\n"
     ]
    }
   ],
   "source": [
    "img=cv2.imread('chromaDiagram.png')\n",
    "cv2.imshow('imagem',img)\n",
    "cv2.waitKey()\n",
    "cv2.destroyAllWindows()\n",
    "#cpy.h = Planck constant\n",
    "#cpy.c= speed of light\n",
    "# cpy.k =Boltzmann constant\n",
    "T=np.linspace(1,30000,30000)\n",
    "bLambdaT=[]\n",
    "i=0\n",
    "bLambdaT.append(np.divide(2*cpy.h*cpy.c**2,np.multiply(np.power(wavelenght,5),(np.exp(np.divide(cpy.h*cpy.c,np.multiply(wavelenght,cpy.k*T[i])))-1))))\n",
    "for i in range(1,1000):\n",
    "   #np.vstack((bLambdaT,np.divide(2*cpy.h*cpy.c**2,np.multiply(np.power(wavelenght,5),(np.exp(np.divide(cpy.h*cpy.c,np.multiply(wavelenght,cpy.k*T[i])))-1)))))\n",
    "   bLambdaT=np.vstack((bLambdaT,np.divide(2*cpy.h*cpy.c**2,np.multiply(np.power(wavelenght,5),(np.exp(np.divide(cpy.h*cpy.c,np.multiply(wavelenght,cpy.k*T[i])))-1)))))\n",
    "    # bLambdaT.append[2*cpy.h*cpy.c^2./(np.power(wavelenght,5)*(math.exp(cpy.h*c./ (wavelenght*cpy.k*T(i)))-1))]\n",
    "    \n",
    "print(bLambdaT[62])    "
   ]
  },
  {
   "cell_type": "code",
   "execution_count": 4,
   "metadata": {},
   "outputs": [
    {
     "name": "stdout",
     "output_type": "stream",
     "text": [
      "[[4 3 2]\n",
      " [3 5 7]\n",
      " [1 2 3]\n",
      " [2 3 4]]\n"
     ]
    }
   ],
   "source": [
    "A=[]\n",
    "A.append([4,3,2])\n",
    "b=[3,5,7]\n",
    "A=np.vstack((A,b))\n",
    "a = np.array([1, 2, 3])\n",
    "b = np.array([2, 3, 4])\n",
    "A=np.vstack((A,a))\n",
    "\n",
    "A=np.vstack((A,b))\n",
    "print(A)"
   ]
  },
  {
   "cell_type": "code",
   "execution_count": null,
   "metadata": {},
   "outputs": [],
   "source": []
  }
 ],
 "metadata": {
  "kernelspec": {
   "display_name": "Python 3",
   "language": "python",
   "name": "python3"
  },
  "language_info": {
   "codemirror_mode": {
    "name": "ipython",
    "version": 3
   },
   "file_extension": ".py",
   "mimetype": "text/x-python",
   "name": "python",
   "nbconvert_exporter": "python",
   "pygments_lexer": "ipython3",
   "version": "3.6.6"
  }
 },
 "nbformat": 4,
 "nbformat_minor": 2
}
