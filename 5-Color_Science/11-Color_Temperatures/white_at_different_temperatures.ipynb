{
 "cells": [
  {
   "cell_type": "markdown",
   "metadata": {},
   "source": [
    "# CEFET-RJ - UNED Nova Iguaçu  <IMG STYLE=\"position:absolute; TOP:25px; LEFT:500px; WIDTH:63px; HEIGHT:48px\" SRC=\"logocefet.jpg\">\n",
    "\n",
    "## Dep. Engenharia de Controle e Automação\n",
    "\n",
    "### Disciplina: Processamento Digital de Imagens\n",
    "\n",
    "Professor: Gabriel Matos Araujo\n",
    "<br>\n",
    "Material de Aula (Conversão em Python)\n",
    "<br>\n",
    "Script escrito por Leonardo Martins Reigoto\n",
    "\n",
    "<b> Original File Heading</b>\n"
   ]
  },
  {
   "cell_type": "code",
   "execution_count": 28,
   "metadata": {},
   "outputs": [],
   "source": [
    "import csv\n",
    "import numpy as np\n",
    "import cv2\n",
    "import matplotlib.pyplot as plt\n",
    "import scipy.constants as cpy\n",
    "import math"
   ]
  },
  {
   "cell_type": "markdown",
   "metadata": {},
   "source": [
    "Reading csv file"
   ]
  },
  {
   "cell_type": "code",
   "execution_count": 29,
   "metadata": {},
   "outputs": [],
   "source": [
    "with open('ciexyz31_1.csv') as csvfile:\n",
    "    readfile=csv.reader(csvfile,quoting=csv.QUOTE_NONNUMERIC)\n",
    "    wavelenght=[]\n",
    "    X=[]\n",
    "    Y=[]\n",
    "    Z=[]\n",
    "    for row in readfile:\n",
    "        wavelenght.append(row[0]*10**(-9)) #wavelenght m\n",
    "        X.append(row[1])\n",
    "        Y.append(row[2])\n",
    "        Z.append(row[3])"
   ]
  },
  {
   "cell_type": "code",
   "execution_count": 41,
   "metadata": {},
   "outputs": [
    {
     "name": "stdout",
     "output_type": "stream",
     "text": [
      "[[       nan        nan        nan ...        nan        nan        nan]\n",
      " [       nan        nan        nan ...        nan        nan        nan]\n",
      " [       nan        nan        nan ...        nan        nan        nan]\n",
      " ...\n",
      " [0.00017482 0.00017477 0.00017472 ... 0.00073469 0.00073469 0.00073469]\n",
      " [0.00017482 0.00017477 0.00017472 ... 0.00073469 0.00073469 0.00073469]\n",
      " [0.00017482 0.00017477 0.00017472 ... 0.00073469 0.00073469 0.00073469]]\n"
     ]
    },
    {
     "name": "stderr",
     "output_type": "stream",
     "text": [
      "/home/usuario/anaconda3/lib/python3.7/site-packages/ipykernel_launcher.py:25: RuntimeWarning: divide by zero encountered in true_divide\n",
      "/home/usuario/anaconda3/lib/python3.7/site-packages/ipykernel_launcher.py:25: RuntimeWarning: invalid value encountered in true_divide\n",
      "/home/usuario/anaconda3/lib/python3.7/site-packages/ipykernel_launcher.py:26: RuntimeWarning: divide by zero encountered in true_divide\n",
      "/home/usuario/anaconda3/lib/python3.7/site-packages/ipykernel_launcher.py:26: RuntimeWarning: invalid value encountered in true_divide\n",
      "/home/usuario/anaconda3/lib/python3.7/site-packages/ipykernel_launcher.py:27: RuntimeWarning: divide by zero encountered in true_divide\n",
      "/home/usuario/anaconda3/lib/python3.7/site-packages/ipykernel_launcher.py:27: RuntimeWarning: invalid value encountered in true_divide\n"
     ]
    }
   ],
   "source": [
    "img=cv2.imread('chromadiagram.png')\n",
    "cv2.imshow('imagem',img)\n",
    "cv2.waitKey()\n",
    "cv2.destroyAllWindows()\n",
    "#cpy.h = Planck constant\n",
    "#cpy.c= speed of light\n",
    "# cpy.k =Boltzmann constant\n",
    "T=np.linspace(1,30000,30000)\n",
    "i=0\n",
    "bLambdaT=np.zeros((len(T),len(wavelenght)))\n",
    "bLambdaT[0]=np.divide(2*cpy.h*cpy.c**2,np.multiply(np.power(wavelenght,5),(np.exp(np.divide(cpy.h*cpy.c,np.multiply(wavelenght,cpy.k*T[i])))-1)))\n",
    "for i in range(1,30000):  \n",
    "   bLambdaT[i]=np.divide(2*cpy.h*cpy.c**2,np.multiply(np.power(wavelenght,5),(np.exp(np.divide(cpy.h*cpy.c,np.multiply(wavelenght,cpy.k*T[i])))-1)))\n",
    "xMatch = np.tile(X, (len(T),1))\n",
    "yMatch = np.tile(Y, (len(T),1))\n",
    "zMatch = np.tile(Z, (len(T),1))\n",
    "X_2=np.multiply(bLambdaT,xMatch)\n",
    "X_2.sum(axis=1)\n",
    "Y_2=np.multiply(bLambdaT,yMatch)\n",
    "Y_2.sum(axis=1)\n",
    "Z_2=np.multiply(bLambdaT,zMatch)\n",
    "Z_2.sum(axis=1)\n",
    "X_Y_Z=(X_2+Y_2+Z_2)*1000\n",
    "\n",
    "#tem divisao por 0 ficara NaN (analogo ao do matlab)\n",
    "x_3=np.divide(X_2,X_Y_Z)\n",
    "Y_3=np.divide(Y_2,X_Y_Z)\n",
    "Z_3=np.divide(Z_2,X_Y_Z)\n",
    "\n",
    "#print(x_3)\n",
    "\n",
    "#plotar figura"
   ]
  }
 ],
 "metadata": {
  "kernelspec": {
   "display_name": "Python 3",
   "language": "python",
   "name": "python3"
  },
  "language_info": {
   "codemirror_mode": {
    "name": "ipython",
    "version": 3
   },
   "file_extension": ".py",
   "mimetype": "text/x-python",
   "name": "python",
   "nbconvert_exporter": "python",
   "pygments_lexer": "ipython3",
   "version": "3.7.3"
  }
 },
 "nbformat": 4,
 "nbformat_minor": 2
}
