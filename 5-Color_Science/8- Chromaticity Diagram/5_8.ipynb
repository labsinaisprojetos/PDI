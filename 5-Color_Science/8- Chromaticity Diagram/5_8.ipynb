{
 "cells": [
  {
   "cell_type": "markdown",
   "metadata": {},
   "source": [
    "# CEFET-RJ - UNED Nova Iguaçu  <IMG STYLE=\"position:absolute; TOP:25px; LEFT:500px; WIDTH:63px; HEIGHT:48px\" SRC=\"logocefet.jpg\">\n",
    "\n",
    "## Dep. Engenharia de Controle e Automação\n",
    "\n",
    "### Disciplina: Processamento Digital de Imagens\n",
    "\n",
    "Professor: Gabriel Matos Araujo\n",
    "<br>\n",
    "Material de Aula (Conversão em Python)\n",
    "<br>\n",
    "Script escrito por Leonardo Martins Reigoto\n",
    "\n",
    "<b> Original File Heading</b>\n",
    "<br>\n",
    "EE368/CS232 Digital Image Processing\n",
    "<br>\n",
    "Bernd Girod\n",
    "<br>\n",
    "Department of Electrical Engineering, Stanford University \n",
    "<br>\n",
    "Script by Qiyuan Tian and David Chen\n",
    "<br>\n",
    "Luminosity function\n",
    "\n",
    "\n",
    "Colour Matching Function : lin2012xyz2e_1_7sf.csv\n",
    "<br>\n",
    "\"2-deg XYZ CMFs transformed from the CIE (2006) 2-deg LMS cone fundamentals\"\n",
    "<br>\n",
    "Reference : http://cvrl.ioo.ucl.ac.uk/cmfs.htm\n",
    "\n",
    "\n",
    "\n",
    "Loading modules and defining inpolygon function"
   ]
  },
  {
   "cell_type": "code",
   "execution_count": 267,
   "metadata": {},
   "outputs": [],
   "source": [
    "import csv\n",
    "import numpy as np\n",
    "import matplotlib.pyplot as plt\n",
    "from matplotlib import path\n",
    "\n",
    "def inpolygon(xq, yq, xv, yv):\n",
    "    shape = xq.shape\n",
    "    print(shape)\n",
    "    xq = xq.reshape(1,-1)\n",
    "    print(xq.shape)\n",
    "    yq = yq.reshape(1,-1)\n",
    "    xv = xv.reshape(1,-1)\n",
    "    yv = yv.reshape(1,-1)\n",
    "    q = [(xq[0,i-1], yq[0,i-1]) for i in range(xq.shape[1]+xq.shape[0]-1)]\n",
    "    p = path.Path([(xv[0,i], yv[0,i]) for i in range(xv.shape[1]+xv.shape[0]-1)])\n",
    "    return p.contains_points(q).reshape(shape)"
   ]
  },
  {
   "cell_type": "markdown",
   "metadata": {},
   "source": [
    "Reading csv file"
   ]
  },
  {
   "cell_type": "code",
   "execution_count": 268,
   "metadata": {},
   "outputs": [],
   "source": [
    "with open('lin2012xyz2e_1_7sf.csv') as csvfile:\n",
    "    readfile=csv.reader(csvfile,quoting=csv.QUOTE_NONNUMERIC)\n",
    "    X=[]\n",
    "    Y=[]\n",
    "    Z=[]\n",
    "    for row in readfile:\n",
    "        X.append(row[1])\n",
    "        Y.append(row[2])\n",
    "        Z.append(row[3])"
   ]
  },
  {
   "cell_type": "markdown",
   "metadata": {},
   "source": [
    "Plotting graph"
   ]
  },
  {
   "cell_type": "code",
   "execution_count": 328,
   "metadata": {},
   "outputs": [
    {
     "name": "stdout",
     "output_type": "stream",
     "text": [
      "(1000, 1000)\n",
      "(1, 1000000)\n"
     ]
    },
    {
     "data": {
      "image/png": "[encoded data removed]",
      "text/plain": [
       "<Figure size 432x288 with 1 Axes>"
      ]
     },
     "metadata": {
      "needs_background": "light"
     },
     "output_type": "display_data"
    }
   ],
   "source": [
    "h=np.add(X,Y)\n",
    "sum_XYZ=np.add(h,Z)\n",
    "x=np.divide(X,sum_XYZ)\n",
    "y=np.divide(Y,sum_XYZ)\n",
    "z=np.divide(Z,sum_XYZ)\n",
    "resolution = 1000\n",
    "x = np.multiply(x,resolution) \n",
    "y = np.multiply(y,resolution) \n",
    "z = np.multiply(z,resolution) \n",
    "aux=np.linspace(1, resolution, num=resolution)\n",
    "xIndex = np.tile(aux,(resolution,1))\n",
    "yIndex=np.transpose(xIndex)\n",
    "IN=inpolygon(xIndex, yIndex, x, y)\n",
    "plt.xlabel('x')\n",
    "plt.ylabel('y')\n",
    "plt.imshow(IN)\n",
    "plt.gca().invert_yaxis();\n",
    "plt.title('Visible Region');\n",
    "\n",
    "## Convert from xyz to RGB\n",
    "## Reference: http://www.brucelindbloom.com/index.html?ChromaticityGamuts.html\n"
   ]
  },
  {
   "cell_type": "code",
   "execution_count": 300,
   "metadata": {},
   "outputs": [
    {
     "ename": "AttributeError",
     "evalue": "module 'matplotlib.pyplot' has no attribute 'linspace'",
     "output_type": "error",
     "traceback": [
      "\u001b[1;31m---------------------------------------------------------------------------\u001b[0m",
      "\u001b[1;31mAttributeError\u001b[0m                            Traceback (most recent call last)",
      "\u001b[1;32m<ipython-input-300-0eb42d134273>\u001b[0m in \u001b[0;36m<module>\u001b[1;34m\u001b[0m\n\u001b[1;32m----> 1\u001b[1;33m \u001b[0mplt\u001b[0m\u001b[1;33m.\u001b[0m\u001b[0mlinspace\u001b[0m\u001b[1;33m(\u001b[0m\u001b[1;36m0\u001b[0m\u001b[1;33m,\u001b[0m \u001b[1;36m1\u001b[0m\u001b[1;33m,\u001b[0m \u001b[1;36m1001\u001b[0m\u001b[1;33m)\u001b[0m\u001b[1;33m\u001b[0m\u001b[1;33m\u001b[0m\u001b[0m\n\u001b[0m",
      "\u001b[1;31mAttributeError\u001b[0m: module 'matplotlib.pyplot' has no attribute 'linspace'"
     ]
    }
   ],
   "source": [
    "plt.linspace(0, 1, 1001)"
   ]
  },
  {
   "cell_type": "code",
   "execution_count": 325,
   "metadata": {},
   "outputs": [
    {
     "data": {
      "image/png": "[encoded data removed]",
      "text/plain": [
       "<Figure size 432x288 with 1 Axes>"
      ]
     },
     "metadata": {
      "needs_background": "light"
     },
     "output_type": "display_data"
    }
   ],
   "source": [
    "plt.xlabel('x')\n",
    "plt.ylabel('y')\n",
    "plt.imshow(IN)\n",
    "plt.gca().invert_yaxis();\n",
    "\n"
   ]
  },
  {
   "cell_type": "code",
   "execution_count": 316,
   "metadata": {},
   "outputs": [
    {
     "data": {
      "text/plain": [
       "array([0.   , 0.001, 0.002, ..., 0.998, 0.999, 1.   ])"
      ]
     },
     "execution_count": 316,
     "metadata": {},
     "output_type": "execute_result"
    }
   ],
   "source": [
    "np.linspace(0, 1, num=resolution+1)"
   ]
  },
  {
   "cell_type": "code",
   "execution_count": null,
   "metadata": {},
   "outputs": [],
   "source": []
  }
 ],
 "metadata": {
  "kernelspec": {
   "display_name": "Python 3",
   "language": "python",
   "name": "python3"
  },
  "language_info": {
   "codemirror_mode": {
    "name": "ipython",
    "version": 3
   },
   "file_extension": ".py",
   "mimetype": "text/x-python",
   "name": "python",
   "nbconvert_exporter": "python",
   "pygments_lexer": "ipython3",
   "version": "3.7.1"
  }
 },
 "nbformat": 4,
 "nbformat_minor": 2
}
