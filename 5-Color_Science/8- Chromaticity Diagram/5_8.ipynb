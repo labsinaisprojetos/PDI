{
 "cells": [
  {
   "cell_type": "markdown",
   "metadata": {},
   "source": [
    "# CEFET-RJ - UNED Nova Iguaçu  <IMG STYLE=\"position:absolute; TOP:25px; LEFT:500px; WIDTH:63px; HEIGHT:48px\" SRC=\"logocefet.jpg\">\n",
    "\n",
    "## Dep. Engenharia de Controle e Automação\n",
    "\n",
    "### Disciplina: Processamento Digital de Imagens\n",
    "\n",
    "Professor: Gabriel Matos Araujo\n",
    "<br>\n",
    "Material de Aula (Conversão em Python)\n",
    "<br>\n",
    "Script escrito por Leonardo Martins Reigoto\n",
    "\n",
    "<b> Original File Heading</b>\n",
    "<br>\n",
    "EE368/CS232 Digital Image Processing\n",
    "<br>\n",
    "Bernd Girod\n",
    "<br>\n",
    "Department of Electrical Engineering, Stanford University \n",
    "<br>\n",
    "Script by Qiyuan Tian and David Chen\n",
    "<br>\n",
    "Luminosity function\n",
    "\n",
    "\n",
    "Colour Matching Function : lin2012xyz2e_1_7sf.csv\n",
    "<br>\n",
    "\"2-deg XYZ CMFs transformed from the CIE (2006) 2-deg LMS cone fundamentals\"\n",
    "<br>\n",
    "Reference : http://cvrl.ioo.ucl.ac.uk/cmfs.htm\n",
    "\n",
    "\n",
    "\n",
    "Loading modules and defining inpolygon function"
   ]
  },
  {
   "cell_type": "code",
   "execution_count": 1,
   "metadata": {},
   "outputs": [],
   "source": [
    "import csv\n",
    "import numpy as np\n",
    "import cv2\n",
    "import matplotlib.pyplot as plt\n",
    "from matplotlib import path\n",
    "\n",
    "def inpolygon(xq, yq, xv, yv):\n",
    "    shape = xq.shape\n",
    "    xq = xq.reshape(1,-1)\n",
    "    yq = yq.reshape(1,-1)\n",
    "    xv = xv.reshape(1,-1)\n",
    "    yv = yv.reshape(1,-1)\n",
    "    q = [(xq[0,i-1], yq[0,i-1]) for i in range(xq.shape[1]+xq.shape[0]-1)]\n",
    "    p = path.Path([(xv[0,i], yv[0,i]) for i in range(xv.shape[1]+xv.shape[0]-1)])\n",
    "    return p.contains_points(q).reshape(shape)"
   ]
  },
  {
   "cell_type": "markdown",
   "metadata": {},
   "source": [
    "Reading csv file"
   ]
  },
  {
   "cell_type": "code",
   "execution_count": 2,
   "metadata": {},
   "outputs": [],
   "source": [
    "with open('lin2012xyz2e_1_7sf.csv') as csvfile:\n",
    "    readfile=csv.reader(csvfile,quoting=csv.QUOTE_NONNUMERIC)\n",
    "    X=[]\n",
    "    Y=[]\n",
    "    Z=[]\n",
    "    for row in readfile:\n",
    "        X.append(row[1])\n",
    "        Y.append(row[2])\n",
    "        Z.append(row[3])"
   ]
  },
  {
   "cell_type": "markdown",
   "metadata": {},
   "source": [
    "Plotting visible region"
   ]
  },
  {
   "cell_type": "code",
   "execution_count": 3,
   "metadata": {},
   "outputs": [
    {
     "data": {
      "image/png": "[encoded data removed]",
      "text/plain": [
       "<Figure size 432x288 with 1 Axes>"
      ]
     },
     "metadata": {
      "needs_background": "light"
     },
     "output_type": "display_data"
    }
   ],
   "source": [
    "h=np.add(X,Y)\n",
    "sum_XYZ=np.add(h,Z)\n",
    "x=np.divide(X,sum_XYZ)\n",
    "y=np.divide(Y,sum_XYZ)\n",
    "z=np.divide(Z,sum_XYZ)\n",
    "resolution = 1000\n",
    "x = np.multiply(x,resolution) \n",
    "y = np.multiply(y,resolution) \n",
    "z = np.multiply(z,resolution) \n",
    "aux=np.linspace(1, resolution, num=resolution)\n",
    "xIndex = np.tile(aux,(resolution,1))\n",
    "yIndex=np.transpose(xIndex)\n",
    "IN=inpolygon(xIndex, yIndex, x, y)\n",
    "plt.axis(\"off\")\n",
    "plt.imshow(IN)\n",
    "plt.gca().invert_yaxis();\n",
    "plt.title('Visible Region');\n",
    "\n"
   ]
  },
  {
   "cell_type": "markdown",
   "metadata": {},
   "source": [
    "from original file:\n",
    "<br>\n",
    "Convert from xyz to RGBxyz to RGB\n",
    "<br>\n",
    "Reference: http://www.brucelindbloom.com/index.html?ChromaticityGamuts.html\n",
    "\n"
   ]
  },
  {
   "cell_type": "code",
   "execution_count": 5,
   "metadata": {},
   "outputs": [],
   "source": [
    "xImg=np.divide(np.multiply(xIndex,IN),1000)\n",
    "yImg=np.divide(np.multiply(yIndex,IN),1000)\n",
    "zImg=np.divide(np.multiply((resolution-xIndex-yIndex),IN),1000)\n",
    "sigma = 0.0001\n",
    "xr = 0.735\n",
    "yr = 0.265\n",
    "xg = sigma\n",
    "yg = 1\n",
    "xb = sigma\n",
    "yb = -0.074\n",
    "Xr = xr / yr\n",
    "Yr = 1\n",
    "Zr = (1 - xr - yr) / yr\n",
    "\n",
    "Xg = xg / yg\n",
    "Yg = 1\n",
    "Zg = (1 - xg - yg) / yg\n",
    "\n",
    "Xb = xb / yb\n",
    "Yb = 1\n",
    "Zb = (1 - xb - yb) / yb"
   ]
  },
  {
   "cell_type": "code",
   "execution_count": null,
   "metadata": {},
   "outputs": [],
   "source": []
  }
 ],
 "metadata": {
  "kernelspec": {
   "display_name": "Python 3",
   "language": "python",
   "name": "python3"
  },
  "language_info": {
   "codemirror_mode": {
    "name": "ipython",
    "version": 3
   },
   "file_extension": ".py",
   "mimetype": "text/x-python",
   "name": "python",
   "nbconvert_exporter": "python",
   "pygments_lexer": "ipython3",
   "version": "3.7.3"
  }
 },
 "nbformat": 4,
 "nbformat_minor": 2
}
