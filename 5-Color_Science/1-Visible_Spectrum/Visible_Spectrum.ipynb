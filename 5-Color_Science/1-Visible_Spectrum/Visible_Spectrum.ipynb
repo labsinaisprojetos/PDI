{
 "cells": [
  {
   "cell_type": "markdown",
   "metadata": {},
   "source": [
    "#       CEFET-RJ - UNED Nova Iguaçu\n",
    "##   Dep. Engenharia de Controle e Automação \n",
    "## Disciplina: Processamento Digital de Imagens\n",
    "Professor: Gabriel Matos Araujo<br>\n",
    "Material de Aula (Conversão em Python)<br>\n",
    "Script escrito por Pedro Monforte"
   ]
  },
  {
   "cell_type": "markdown",
   "metadata": {},
   "source": [
    "####          Original File Heading\n",
    " EE368/CS232 Digital Image Processing<br>\n",
    " Bernd Girod<br>\n",
    " Department of Electrical Engineering, Stanford University <br>\n",
    "\n",
    " Script by Qiyuan Tian and David Chen<br>\n",
    " Color: visible range of the electromagnetic spectrum <br>\n",
    "\n",
    " visibleSpectrum.csv:  CIE 1931 color matching functions<br>\n",
    " 2-degree, XYZ CMFs, at 1nm resolution, limit to [380nm, 760nm]<br>\n",
    " Reference: http://cvrl.ioo.ucl.ac.uk/cmfs.htm"
   ]
  },
  {
   "cell_type": "code",
   "execution_count": 1,
   "metadata": {
    "collapsed": true
   },
   "outputs": [],
   "source": [
    "import numpy as np\n",
    "from numpy import genfromtxt as load\n",
    "import matplotlib.pyplot as plt\n",
    "import cv2\n",
    "%matplotlib inline"
   ]
  },
  {
   "cell_type": "markdown",
   "metadata": {},
   "source": [
    "After downloading the visibleSpectrum.csv file in the referenced site we can load it in XYZ"
   ]
  },
  {
   "cell_type": "code",
   "execution_count": 2,
   "metadata": {
    "collapsed": true
   },
   "outputs": [],
   "source": [
    "CMFs = load('visibleSpectrum.csv', delimiter=',')\n",
    "wavelength = np.copy(CMFs[:,0])\n",
    "xyz = (CMFs[:, 1:4]).astype(np.float32)"
   ]
  },
  {
   "cell_type": "markdown",
   "metadata": {},
   "source": [
    "Convert it to RGB using OpenCV "
   ]
  },
  {
   "cell_type": "code",
   "execution_count": 3,
   "metadata": {
    "collapsed": true
   },
   "outputs": [],
   "source": [
    "xyz = np.transpose(np.expand_dims(xyz, axis=2),(2, 0, 1))\n",
    "rgb = cv2.cvtColor(xyz,cv2.COLOR_XYZ2RGB)\n",
    "rgb = np.tile(rgb,[50,1,1])"
   ]
  },
  {
   "cell_type": "code",
   "execution_count": 4,
   "metadata": {
    "collapsed": true
   },
   "outputs": [],
   "source": [
    "for i in range(3): #Normalize to 0~1 range\n",
    "    rgb[:,:,i] = (rgb[:,:,i] - np.min(rgb[:,:,i]))\n",
    "    rgb[:,:,i] = rgb[:,:,i]/np.max(rgb[:,:,i])"
   ]
  },
  {
   "cell_type": "code",
   "execution_count": 5,
   "metadata": {},
   "outputs": [
    {
     "data": {
      "image/png": "[encoded data removed]",
      "text/plain": [
       "<Figure size 432x288 with 1 Axes>"
      ]
     },
     "metadata": {
      "needs_background": "light"
     },
     "output_type": "display_data"
    }
   ],
   "source": [
    "plt.imshow(rgb)\n",
    "plt.title('Visible spectrum(390nm ~ 760nm)');\n",
    "plt.xlabel('Wavelength (nm)');\n",
    "rgb = cv2.cvtColor(rgb,cv2.COLOR_RGB2BGR)\n",
    "cv2.imwrite('Visible_Spectrum_colorspectrum2.png',rgb*255);"
   ]
  },
  {
   "cell_type": "code",
   "execution_count": null,
   "metadata": {
    "collapsed": true
   },
   "outputs": [],
   "source": []
  }
 ],
 "metadata": {
  "kernelspec": {
   "display_name": "Python 3",
   "language": "python",
   "name": "python3"
  },
  "language_info": {
   "codemirror_mode": {
    "name": "ipython",
    "version": 3
   },
   "file_extension": ".py",
   "mimetype": "text/x-python",
   "name": "python",
   "nbconvert_exporter": "python",
   "pygments_lexer": "ipython3",
   "version": "3.6.6"
  }
 },
 "nbformat": 4,
 "nbformat_minor": 2
}
